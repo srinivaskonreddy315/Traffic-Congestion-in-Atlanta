{
 "cells": [
  {
   "cell_type": "code",
   "execution_count": null,
   "id": "549acce3-58d4-4303-80b5-c0b44806c5f6",
   "metadata": {},
   "outputs": [],
   "source": [
    "import geopandas as gpd\n",
    "from shapely.geometry import box\n",
    "import matplotlib.pyplot as plt"
   ]
  },
  {
   "cell_type": "code",
   "execution_count": null,
   "id": "54a72676-dcf6-4b35-85aa-4b4be5c73626",
   "metadata": {},
   "outputs": [],
   "source": [
    "# Loading shapefiles from the current working folder\n",
    "osm_road_network = gpd.read_file(r\"C:\\Users\\srini\\OneDrive\\Documents\\ArcGIS\\Projects\\Term Project\\Atlanta Roadways\\Atlanta_Roadways_line.shp\")\n",
    "atlanta_shapefile = gpd.read_file(r\"C:\\Users\\srini\\OneDrive\\Documents\\ArcGIS\\Projects\\Term Project\\Geographic boundaries\\Geographic_boundaries,_ACS_2022.shp\")\n",
    "traffic_counts = gpd.read_file(r\"C:\\Users\\srini\\OneDrive\\Documents\\ArcGIS\\Projects\\Term Project\\Traffic Statistics\\features.shp\")\n"
   ]
  },
  {
   "cell_type": "code",
   "execution_count": null,
   "id": "11e55501-f9d0-4909-9cc1-ff720375060a",
   "metadata": {},
   "outputs": [],
   "source": [
    "# Align CRS for all datasets\n",
    "atlanta_shapefile = atlanta_shapefile.to_crs(osm_road_network.crs)\n",
    "traffic_counts = traffic_counts.to_crs(osm_road_network.crs)"
   ]
  },
  {
   "cell_type": "code",
   "execution_count": null,
   "id": "1e8d3a5f-3c06-4497-b3cb-74cbf37ca100",
   "metadata": {},
   "outputs": [],
   "source": [
    "# Define the bounding box from the extent of the OSM road network\n",
    "osm_bbox = osm_road_network.total_bounds  # [minx, miny, maxx, maxy]\n",
    "osm_boundary = gpd.GeoDataFrame(geometry=[box(*osm_bbox)], crs=osm_road_network.crs)\n",
    "\n",
    "# Clip datasets to the OSM bounding box\n",
    "atlanta_clipped = gpd.clip(atlanta_shapefile, osm_boundary)\n",
    "traffic_counts_clipped = gpd.clip(traffic_counts, osm_boundary)\n",
    "road_network_clipped = osm_road_network"
   ]
  },
  {
   "cell_type": "code",
   "execution_count": null,
   "id": "3f0983e7-71c5-46f1-8bc1-f349e4cc8809",
   "metadata": {},
   "outputs": [],
   "source": [
    "# Spatial join between traffic counts and road network\n",
    "traffic_with_roads = gpd.sjoin(road_network_clipped, traffic_counts_clipped, how=\"inner\", predicate=\"intersects\")\n"
   ]
  },
  {
   "cell_type": "code",
   "execution_count": null,
   "id": "2035271b-d289-4aab-bd6f-f84d220e71ae",
   "metadata": {},
   "outputs": [],
   "source": [
    "# Plot the road network, traffic counts, and boundary\n",
    "fig, ax = plt.subplots(figsize=(12, 8))\n",
    "osm_boundary.boundary.plot(ax=ax, color=\"blue\", linewidth=1, label=\"OSM Boundary\")\n",
    "road_network_clipped.plot(ax=ax, color=\"grey\", linewidth=0.5, label=\"Road Network\")\n",
    "traffic_counts_clipped.plot(ax=ax, color=\"red\", markersize=10, label=\"Traffic Counts\")\n",
    "\n",
    "# Customize the map\n",
    "ax.set_title(\"Preliminary Traffic Visualization: Atlanta and Suburbs\", fontsize=14)\n",
    "ax.set_xlabel(\"Longitude\")\n",
    "ax.set_ylabel(\"Latitude\")\n",
    "ax.legend()\n",
    "plt.show()"
   ]
  },
  {
   "cell_type": "code",
   "execution_count": null,
   "id": "65f62330-7a7e-4cd1-9070-be23a0e10866",
   "metadata": {},
   "outputs": [],
   "source": [
    "#We have completed the spatial preprocessing phase, including clipping datasets, aligning CRS, and preparing clean datasets for analysis. Moving forward to spatial analysis, we will identify traffic congestion hotspots, perform proximity analysis with road infrastructure, and extract statistical summaries to reveal key patterns."
   ]
  },
  {
   "cell_type": "code",
   "execution_count": null,
   "id": "09b81fdc-7693-4e65-be0f-73d0edb9a7bd",
   "metadata": {},
   "outputs": [],
   "source": [
    "import geopandas as gpd\n",
    "import matplotlib.pyplot as plt\n",
    "from shapely.geometry import Point\n",
    "import numpy as np\n",
    "import pandas as pd\n",
    "\n",
    "# Ensure matplotlib inline if using Jupyter\n",
    "%matplotlib inline\n"
   ]
  },
  {
   "cell_type": "code",
   "execution_count": null,
   "id": "23348c94-548d-4bb1-bcca-e8db97f1950c",
   "metadata": {},
   "outputs": [],
   "source": [
    "# Spatial join of traffic counts with the road network to associate traffic data with the road segments\n",
    "traffic_with_roads = gpd.sjoin(traffic_counts, osm_road_network, how=\"inner\", op=\"intersects\")\n",
    "\n",
    "# Analyze the traffic counts along these segments, filtering by traffic volume\n",
    "high_traffic_threshold = 10000  # Set traffic threshold to 1500\n",
    "high_traffic_areas = traffic_with_roads[traffic_with_roads['aadt'] > high_traffic_threshold]\n",
    "\n",
    "# Plot the high-traffic areas\n",
    "ax = atlanta_shapefile.plot(figsize=(10, 10), color='lightgray')\n",
    "high_traffic_areas.plot(ax=ax, color='red', markersize=10, label='High Traffic Areas')\n",
    "osm_road_network.plot(ax=ax, color='gray', linewidth=0.5, label='Road Network')\n",
    "plt.legend()\n",
    "plt.title('High Traffic Areas in Atlanta')\n",
    "plt.xlabel('Longitude')\n",
    "plt.ylabel('Latitude')\n",
    "plt.show()\n"
   ]
  },
  {
   "cell_type": "code",
   "execution_count": null,
   "id": "45e9ad03-9d19-4585-b0cf-57c85994b081",
   "metadata": {},
   "outputs": [],
   "source": [
    "# Convert the 'aadt' column to numeric, coercing any errors to NaN\n",
    "traffic_counts['aadt'] = pd.to_numeric(traffic_counts['aadt'], errors='coerce')\n",
    "\n",
    "# Now try calculating the threshold again\n",
    "threshold = traffic_counts['aadt'].quantile(0.90)  # Define a threshold for hotspots\n",
    "hotspots = traffic_counts[traffic_counts['aadt'] > threshold]\n",
    "\n",
    "# Save hotspots for further use\n",
    "hotspots.to_file(\"traffic_hotspots.shp\")\n"
   ]
  },
  {
   "cell_type": "code",
   "execution_count": null,
   "id": "b2816946-776b-49e8-8cce-949f029f4c02",
   "metadata": {},
   "outputs": [],
   "source": [
    "# Convert the 'aadt' column to numeric, coercing any errors to NaN\n",
    "traffic_counts_clipped['aadt'] = pd.to_numeric(traffic_counts_clipped['aadt'], errors='coerce')\n",
    "\n",
    "# Now try calculating the threshold again\n",
    "threshold = traffic_counts_clipped['aadt'].quantile(0.90)  # Define a threshold for hotspots\n",
    "hotspots = traffic_counts_clipped[traffic_counts_clipped['aadt'] > threshold]\n",
    "\n",
    "# Save hotspots for further use\n",
    "hotspots.to_file(\"traffic_hotspots.shp\")"
   ]
  },
  {
   "cell_type": "code",
   "execution_count": null,
   "id": "62ef374a-de20-4eb3-ab90-0200a18e36b5",
   "metadata": {},
   "outputs": [],
   "source": [
    "# Example: Assume \"road_network\" and \"hotspots\" are in the same CRS\n",
    "hotspots['nearest_road_distance'] = hotspots.geometry.apply(\n",
    "    lambda point: road_network_clipped.distance(point).min()\n",
    ")\n",
    "\n",
    "# Save proximity results\n",
    "hotspots.to_file(\"hotspots_with_proximity.shp\")"
   ]
  },
  {
   "cell_type": "code",
   "execution_count": null,
   "id": "36bcc235-d218-4abf-ab91-e9879dc47ef4",
   "metadata": {},
   "outputs": [],
   "source": [
    "# Summary of traffic volumes\n",
    "volume_stats = traffic_counts['aadt'].describe()\n",
    "print(volume_stats)\n",
    "\n",
    "# Aggregated stats for hotspots\n",
    "hotspot_stats = hotspots['aadt'].describe()\n",
    "print(hotspot_stats)\n",
    "\n",
    "# Save summaries to CSV if needed\n",
    "volume_stats.to_csv(\"traffic_volume_stats.csv\")\n",
    "hotspot_stats.to_csv(\"hotspot_volume_stats.csv\")"
   ]
  },
  {
   "cell_type": "code",
   "execution_count": null,
   "id": "5f0568e9-b162-4d4c-9a0e-55f8d0896a87",
   "metadata": {},
   "outputs": [],
   "source": [
    "fig, ax = plt.subplots(figsize=(10, 10))\n",
    "atlanta_clipped.plot(ax=ax, edgecolor='blue', linewidth=1, label=\"Boundary\")\n",
    "road_network_clipped.plot(ax=ax, color='white', linewidth=0.5, label=\"Road Network\")\n",
    "traffic_counts_clipped.plot(ax=ax, color='red', markersize=5, label=\"Traffic Counts\")\n",
    "hotspots.plot(ax=ax, color='yellow', markersize=10, label=\"Hotspots\")\n",
    "\n",
    "# Add legend and titles\n",
    "plt.legend()\n",
    "plt.title(\"Traffic Congestion Hotspots\")\n",
    "plt.xlabel(\"Longitude\")\n",
    "plt.ylabel(\"Latitude\")\n",
    "plt.show()"
   ]
  }
 ],
 "metadata": {
  "kernelspec": {
   "display_name": "Python 3 (ipykernel)",
   "language": "python",
   "name": "python3"
  },
  "language_info": {
   "codemirror_mode": {
    "name": "ipython",
    "version": 3
   },
   "file_extension": ".py",
   "mimetype": "text/x-python",
   "name": "python",
   "nbconvert_exporter": "python",
   "pygments_lexer": "ipython3",
   "version": "3.12.3"
  }
 },
 "nbformat": 4,
 "nbformat_minor": 5
}
